{
 "cells": [
  {
   "cell_type": "markdown",
   "metadata": {},
   "source": [
    "## Lab 2 - Linear regression for missing values\n",
    "\n",
    "Group members:\n",
    "- Name (ID): Sai Sahas Elluru (0753808)\n",
    "- Name (ID): Hari Sai Palem (0747511)\n",
    "- Name (ID): Siddharth Singh (0756590)"
   ]
  },
  {
   "cell_type": "markdown",
   "metadata": {},
   "source": [
    "### Academic integrity statement\n",
    "\n",
    "*Replace the underscores below with your names, acknowledging that you have read and understood the statement in the context of St. Clair College’s Academic Integrity policies.*\n",
    "\n",
    "We, Sai Sahas Elluru, Hari Sai Palem & Siddharth Singh, hereby state that in preparing this lab for submission for grading, we have abided by the College’s academic integrity policies, and that all work presented is our own."
   ]
  },
  {
   "cell_type": "markdown",
   "metadata": {},
   "source": [
    "### Overview\n",
    "\n",
    "In this lab, the main objective is to use a linear regression model to make predictions that you can use to fill in missing values in a dataset. The procedure is the same, however, you are using one of the features as the \"target\" instead of what you may normally think of as the target for that particular dataset. By the end of this lab you should have:\n",
    "\n",
    "- gained experience manipulating dataframes with Pandas\n",
    "- an initial understanding of how missing data is represented\n",
    "- applied a linear regression model to fill in missing data   "
   ]
  },
  {
   "cell_type": "markdown",
   "metadata": {},
   "source": [
    "### Grading\n",
    "\n",
    "This lab will be graded as follows:\n",
    "- 50% for comments/text\n",
    "    - Half of the lab grade will come from an assessment of the comments/text included in your Jupyter notebook submission\n",
    "        - The comments/text should explain clearly what you are doing and why it's necessary to achieve the objective\n",
    "        - You should think of the comments/text as if you were creating a tutorial/blog to guide someone through your work \n",
    "- 50% for code\n",
    "    - Half of the lab grade will come from an assessment of your code\n",
    "        - The code in the notebook should use base python, NumPy, Pandas, sklearn, and/or matplotlib. \n",
    "        - All code cells should run error free\n",
    "        - The code does not have to be optimized or pretty: it needs to be functional for the specific task"
   ]
  },
  {
   "cell_type": "markdown",
   "metadata": {},
   "source": [
    "### What to submit\n",
    "\n",
    "You should submit the following:\n",
    "- a well-commented Jupyter notebook\n",
    "- the original dataset used as a .csv file\n",
    "    - if it did not come as a .csv file, you can write to a .csv from Pandas using `.to_csv()`"
   ]
  },
  {
   "cell_type": "markdown",
   "metadata": {},
   "source": [
    "### Instructions\n",
    "\n",
    "Please execute the following steps using a mixture of base python, NumPy, sklearn, Pandas, and/or matplotlib:\n",
    "\n",
    "1. Find a dataset\n",
    "    - I would suggest looking [here](https://archive.ics.uci.edu/ml/datasets.php) for **regression** datasets\n",
    "    - The dataset for this lab does not have to be complicated, but it should meet the following criteria:\n",
    "        - have at least 100 samples/rows\n",
    "        - have at least 4 numeric features\n",
    "    - if necessary, categorical features can simply be dropped from the dataset\n",
    "2. Import the data as a Pandas dataframe\n",
    "    - Depending on the data format, you may need to consult this [page](https://pandas.pydata.org/pandas-docs/stable/reference/io.html)\n",
    "3. Verify that your data has no missing values\n",
    "    - If it does have missing values, drop them from the dataset but be sure that your dataset still meets the criteria of *Step 1* above\n",
    "4. Choose a single, numeric feature (not the target)\n",
    "    - Replace approximately 15% of the values of this feature with `nan`, which means \"not a number\" and is one way to represent missing data\n",
    "5. Split your dataset into 2 dataframes\n",
    "    - Dataframe 1: has all `nan` values for the feature chosen in *Step 4*\n",
    "    - Dataframe 2: has no `nan` values for the feature chosen in *Step 4*\n",
    "6. Use *Dataframe 2* to create a linear regression model to predict the feature chosen in *Step 4* (not the usual target)\n",
    "    - Split the data\n",
    "    - Scale the data\n",
    "    - Create the model\n",
    "    - evaluate the model on the train and test sets\n",
    "7. Use the model you created in *Step 6* to predict the missing values in *Dataframe 1*\n",
    "    - At the end of this step, *Dataframe 1* will have the `nan` values replaced with the predictions from the model you created in *Step 6*\n",
    "8. Create a final dataframe by combining *Dataframe 1* and *Dataframe 2*\n",
    "    - This dataframe should have no missing values\n",
    "9. Create a k nearest neighbours regressor (`k = 3`) for the dataframe you created in *Step 8*\n",
    "    - Follow the usual procedures\n",
    "10. Create a k nearest neighbours regressor (`k = 3`) for the original dataframe (from *Step 2* and maybe *Step 3*)\n",
    "    - Follow the usual procedures\n",
    "11. Is there any significant performance difference between *Step 9* and *Step 10*?\n"
   ]
  },
  {
   "cell_type": "markdown",
   "metadata": {},
   "source": [
    "### Visualizing the process\n",
    "\n",
    "<img src=\"Lab_2_sequence.png\" width=600 align=\"center\">"
   ]
  },
  {
   "cell_type": "markdown",
   "metadata": {},
   "source": [
    "### Standard package import"
   ]
  },
  {
   "cell_type": "code",
   "execution_count": 1,
   "metadata": {},
   "outputs": [],
   "source": [
    "import numpy as np\n",
    "import pandas as pd\n",
    "from sklearn.model_selection import train_test_split\n",
    "from sklearn.preprocessing import StandardScaler\n",
    "from sklearn.linear_model import LinearRegression\n",
    "from sklearn.metrics import mean_squared_error\n",
    "from sklearn.metrics import mean_absolute_error\n",
    "from sklearn.metrics import r2_score\n",
    "from sklearn.neighbors import KNeighborsRegressor \n"
   ]
  },
  {
   "cell_type": "markdown",
   "metadata": {},
   "source": [
    "### We imported the following packages for:\n",
    "\n",
    "- Numpy: It contains a multi-dimensional array and matrix data structures. It can be utilised to perform a number of         mathematical operations on arrays.\n",
    "\n",
    "- Pandas: It is used for data analysis and data manipulation. \n",
    "\n",
    "- train_test_split: It is used for splitting the data in train and test datasets.\n",
    "\n",
    "- StandardScaler: It is used for scaling the data to perform the modeling. It scales the data by subtracting the mean and   then scaling to unit variance.\n",
    "\n",
    "- LinearRegression: Linear regression models are used to show or predict the relationship between two variables or           factors.\n",
    "\n",
    "- mean_squared error: To calculate the deviation of the estimators\n",
    "\n",
    "- mean_absolute_error: To measure the errors between predictors and observations\n",
    "\n",
    "- r2_score: To calculate the variance in the dependant variable\n",
    "\n",
    "- KNeighborsRegressor: Regression based on k-nearest neighbors. The target is predicted by local interpolation of the       targets associated of the nearest neighbors in the training set.  "
   ]
  },
  {
   "cell_type": "markdown",
   "metadata": {},
   "source": [
    "### Step 2"
   ]
  },
  {
   "cell_type": "code",
   "execution_count": 3,
   "metadata": {},
   "outputs": [
    {
     "name": "stdout",
     "output_type": "stream",
     "text": [
      "        symboling  wheel-base      length       width      height  \\\n",
      "count  201.000000  201.000000  201.000000  201.000000  201.000000   \n",
      "mean     0.840796   98.797015  174.200995   65.889055   53.766667   \n",
      "std      1.254802    6.066366   12.322175    2.101471    2.447822   \n",
      "min     -2.000000   86.600000  141.100000   60.300000   47.800000   \n",
      "25%      0.000000   94.500000  166.800000   64.100000   52.000000   \n",
      "50%      1.000000   97.000000  173.200000   65.500000   54.100000   \n",
      "75%      2.000000  102.400000  183.500000   66.600000   55.500000   \n",
      "max      3.000000  120.900000  208.100000   72.000000   59.800000   \n",
      "\n",
      "       curb-weight  engine-size  compression-ratio    city-mpg  highway-mpg  \\\n",
      "count   201.000000   201.000000         201.000000  201.000000   201.000000   \n",
      "mean   2555.666667   126.875622          10.164279   25.179104    30.686567   \n",
      "std     517.296727    41.546834           4.004965    6.423220     6.815150   \n",
      "min    1488.000000    61.000000           7.000000   13.000000    16.000000   \n",
      "25%    2169.000000    98.000000           8.600000   19.000000    25.000000   \n",
      "50%    2414.000000   120.000000           9.000000   24.000000    30.000000   \n",
      "75%    2926.000000   141.000000           9.400000   30.000000    34.000000   \n",
      "max    4066.000000   326.000000          23.000000   49.000000    54.000000   \n",
      "\n",
      "              price  \n",
      "count    201.000000  \n",
      "mean   13207.129353  \n",
      "std     7947.066342  \n",
      "min     5118.000000  \n",
      "25%     7775.000000  \n",
      "50%    10295.000000  \n",
      "75%    16500.000000  \n",
      "max    45400.000000  \n",
      "\n",
      "symboling              int64\n",
      "normalized-losses     object\n",
      "make                  object\n",
      "fuel-type             object\n",
      "aspiration            object\n",
      "num-of-doors          object\n",
      "body-style            object\n",
      "drive-wheels          object\n",
      "engine-location       object\n",
      "wheel-base           float64\n",
      "length               float64\n",
      "width                float64\n",
      "height               float64\n",
      "curb-weight            int64\n",
      "engine-type           object\n",
      "num-of-cylinders      object\n",
      "engine-size            int64\n",
      "fuel-system           object\n",
      "bore                  object\n",
      "stroke                object\n",
      "compression-ratio    float64\n",
      "horsepower             int32\n",
      "peak-rpm               int32\n",
      "city-mpg               int64\n",
      "highway-mpg            int64\n",
      "price                float64\n",
      "dtype: object\n",
      "\n",
      "   symboling  wheel-base  length  width  height  curb-weight  engine-size  \\\n",
      "0          3        88.6   168.8   64.1    48.8         2548          130   \n",
      "1          3        88.6   168.8   64.1    48.8         2548          130   \n",
      "2          1        94.5   171.2   65.5    52.4         2823          152   \n",
      "3          2        99.8   176.6   66.2    54.3         2337          109   \n",
      "4          2        99.4   176.6   66.4    54.3         2824          136   \n",
      "\n",
      "   compression-ratio  horsepower  city-mpg  highway-mpg    price  \n",
      "0                9.0         111        21           27  13495.0  \n",
      "1                9.0         111        21           27  16500.0  \n",
      "2                9.0         154        19           26  16500.0  \n",
      "3               10.0         102        24           30  13950.0  \n",
      "4                8.0         115        18           22  17450.0  \n"
     ]
    }
   ],
   "source": [
    "automobile = pd.read_csv('Automobile.csv')\n",
    "\n",
    "print(automobile.describe())\n",
    "print()\n",
    "automobile.drop(automobile.loc[automobile['horsepower']=='?'].index, inplace=True)\n",
    "automobile[\"horsepower\"] = automobile[\"horsepower\"].astype(str).astype(int)\n",
    "automobile.drop(automobile.loc[automobile['peak-rpm']=='?'].index, inplace=True)\n",
    "automobile[\"peak-rpm\"] = automobile[\"peak-rpm\"].astype(str).astype(int)\n",
    "print(automobile.dtypes)\n",
    "print()\n",
    "auto = automobile[['symboling', 'wheel-base', 'length', 'width', 'height', 'curb-weight', 'engine-size', 'compression-ratio', 'horsepower', 'city-mpg', 'highway-mpg', 'price']]\n",
    "print(auto.head())\n"
   ]
  },
  {
   "cell_type": "markdown",
   "metadata": {},
   "source": [
    "- pd.read_csv is used to read the csv file which is 'Automobile.csv'.\n",
    "- describe() command gives the statistics summary of the numerical variables.\n",
    "- We have romoved special characters(?) using drop() command in horsepower and peak_rpm\n",
    "- We also converted the class of the horsepower and peak_rpm to int32.\n",
    "- Finally selected the continuos variables from the dataset to create our linear regression model"
   ]
  },
  {
   "cell_type": "markdown",
   "metadata": {},
   "source": [
    "### Step 3"
   ]
  },
  {
   "cell_type": "code",
   "execution_count": 64,
   "metadata": {},
   "outputs": [
    {
     "data": {
      "text/plain": [
       "symboling            0\n",
       "wheel-base           0\n",
       "length               0\n",
       "width                0\n",
       "height               0\n",
       "curb-weight          0\n",
       "engine-size          0\n",
       "compression-ratio    0\n",
       "horsepower           0\n",
       "city-mpg             0\n",
       "highway-mpg          0\n",
       "price                0\n",
       "dtype: int64"
      ]
     },
     "execution_count": 64,
     "metadata": {},
     "output_type": "execute_result"
    }
   ],
   "source": [
    "auto.isnull().sum()"
   ]
  },
  {
   "cell_type": "markdown",
   "metadata": {},
   "source": [
    "- The above command is used to check any null values in the dataset"
   ]
  },
  {
   "cell_type": "markdown",
   "metadata": {},
   "source": [
    "### Step 4"
   ]
  },
  {
   "cell_type": "code",
   "execution_count": 37,
   "metadata": {},
   "outputs": [
    {
     "name": "stdout",
     "output_type": "stream",
     "text": [
      "     symboling  wheel-base  length  width  height  curb-weight  engine-size  \\\n",
      "1            3        88.6   168.8   64.1    48.8         2548          130   \n",
      "2            1        94.5   171.2   65.5    52.4         2823          152   \n",
      "3            2        99.8   176.6   66.2    54.3         2337          109   \n",
      "4            2        99.4   176.6   66.4    54.3         2824          136   \n",
      "5            2        99.8   177.3   66.3    53.1         2507          136   \n",
      "..         ...         ...     ...    ...     ...          ...          ...   \n",
      "196         -1       109.1   188.8   68.9    55.5         2952          141   \n",
      "197         -1       109.1   188.8   68.8    55.5         3049          141   \n",
      "198         -1       109.1   188.8   68.9    55.5         3012          173   \n",
      "199         -1       109.1   188.8   68.9    55.5         3217          145   \n",
      "200         -1       109.1   188.8   68.9    55.5         3062          141   \n",
      "\n",
      "     compression-ratio  horsepower  city-mpg  highway-mpg    price  \n",
      "1                  9.0         111        21           27  16500.0  \n",
      "2                  9.0         154        19           26  16500.0  \n",
      "3                 10.0         102        24           30  13950.0  \n",
      "4                  8.0         115        18           22  17450.0  \n",
      "5                  8.5         110        19           25  15250.0  \n",
      "..                 ...         ...       ...          ...      ...  \n",
      "196                9.5         114        23           28  16845.0  \n",
      "197                8.7         160        19           25  19045.0  \n",
      "198                8.8         134        18           23  21485.0  \n",
      "199               23.0         106        26           27  22470.0  \n",
      "200                9.5         114        19           25  22625.0  \n",
      "\n",
      "[173 rows x 12 columns]\n"
     ]
    }
   ],
   "source": [
    "split = np.random.rand(len(auto)) < 0.85\n",
    "df2 = auto[split]\n",
    "print(df2)"
   ]
  },
  {
   "cell_type": "markdown",
   "metadata": {},
   "source": [
    "- in the above command we are splitting the data according to the question asked. \n",
    "- df2 contains the data with 85% values, selected randomly."
   ]
  },
  {
   "cell_type": "markdown",
   "metadata": {},
   "source": [
    "### Step 5"
   ]
  },
  {
   "cell_type": "code",
   "execution_count": 51,
   "metadata": {},
   "outputs": [
    {
     "name": "stdout",
     "output_type": "stream",
     "text": [
      "     symboling  wheel-base  length  width  height  curb-weight  engine-size  \\\n",
      "0            3        88.6   168.8   64.1    48.8         2548          130   \n",
      "6            1       105.8   192.7   71.4    55.7         2844          136   \n",
      "7            1       105.8   192.7   71.4    55.7         2954          136   \n",
      "18           1        94.5   155.9   63.6    52.0         1874           90   \n",
      "23           1        93.7   157.3   63.8    50.6         1967           90   \n",
      "29           2        86.6   144.6   63.9    50.8         1713           92   \n",
      "31           1        93.7   150.0   64.0    52.6         1837           79   \n",
      "33           1        93.7   150.0   64.0    52.6         1956           92   \n",
      "38           0        96.5   175.4   65.2    54.1         2304          110   \n",
      "45           0       113.0   199.6   69.6    52.8         4066          258   \n",
      "51           1        93.1   166.8   64.2    54.1         1950           91   \n",
      "57           0        98.8   177.8   66.5    55.5         2410          122   \n",
      "61           0        98.8   177.8   66.5    55.5         2425          122   \n",
      "75           2        93.7   157.3   64.4    50.8         2004           92   \n",
      "83           1        96.3   172.4   65.4    51.6         2405          122   \n",
      "85          -1        96.3   172.4   65.4    51.6         2403          110   \n",
      "87           1        94.5   165.3   63.8    54.5         2017          103   \n",
      "88           1        94.5   165.3   63.8    54.5         1918           97   \n",
      "90           1        94.5   170.2   63.8    53.5         2024           97   \n",
      "91           1        94.5   165.3   63.8    54.5         1951           97   \n",
      "123          3        89.5   168.9   65.0    51.6         2756          194   \n",
      "131          2        99.1   186.6   66.5    56.1         2758          121   \n",
      "148          1        95.7   158.7   63.6    54.5         2015           92   \n",
      "150          0        95.7   169.7   63.6    59.1         2290           92   \n",
      "170         -1       102.4   175.6   66.5    54.9         2480          110   \n",
      "182          2        97.3   171.7   65.5    55.7         2275          109   \n",
      "\n",
      "     compression-ratio  horsepower  city-mpg  highway-mpg    price  \n",
      "0                  9.0         NaN        21           27  13495.0  \n",
      "6                  8.5         NaN        19           25  17710.0  \n",
      "7                  8.5         NaN        19           25  18920.0  \n",
      "18                 9.6         NaN        38           43   6295.0  \n",
      "23                 9.4         NaN        31           38   6229.0  \n",
      "29                 9.6         NaN        49           54   6479.0  \n",
      "31                10.1         NaN        38           42   5399.0  \n",
      "33                 9.2         NaN        30           34   7129.0  \n",
      "38                 9.0         NaN        27           33   8845.0  \n",
      "45                 8.1         NaN        15           19  35550.0  \n",
      "51                 9.0         NaN        31           38   7395.0  \n",
      "57                 8.6         NaN        26           32   8495.0  \n",
      "61                 8.6         NaN        26           32  11245.0  \n",
      "75                 9.4         NaN        31           38   6669.0  \n",
      "83                 8.5         NaN        25           32   8189.0  \n",
      "85                 7.5         NaN        23           30   9279.0  \n",
      "87                21.9         NaN        45           50   7099.0  \n",
      "88                 9.4         NaN        31           37   6649.0  \n",
      "90                 9.4         NaN        31           37   7349.0  \n",
      "91                 9.4         NaN        31           37   7299.0  \n",
      "123                9.5         NaN        17           25  32528.0  \n",
      "131                9.3         NaN        21           28  15510.0  \n",
      "148                9.0         NaN        31           38   6488.0  \n",
      "150                9.0         NaN        27           32   7898.0  \n",
      "170               22.5         NaN        30           33  10698.0  \n",
      "182                9.0         NaN        27           34   8495.0  \n"
     ]
    },
    {
     "name": "stderr",
     "output_type": "stream",
     "text": [
      "C:\\Users\\saisa\\Anaconda3\\lib\\site-packages\\ipykernel_launcher.py:2: SettingWithCopyWarning: \n",
      "A value is trying to be set on a copy of a slice from a DataFrame.\n",
      "Try using .loc[row_indexer,col_indexer] = value instead\n",
      "\n",
      "See the caveats in the documentation: https://pandas.pydata.org/pandas-docs/stable/user_guide/indexing.html#returning-a-view-versus-a-copy\n",
      "  \n"
     ]
    }
   ],
   "source": [
    "df1 = auto[~split]\n",
    "df1['horsepower'] = np.nan\n",
    "print(df1)\n",
    "df1_1 = df1.drop(columns = 'horsepower')"
   ]
  },
  {
   "cell_type": "markdown",
   "metadata": {},
   "source": [
    "- we are selecting our target variable as 'horsepower' and using np.nan to put nan values in df2. df2 contain 15% of the     original dataset.\n",
    "- Created a dataframe called df1_1 which does not include 'horsepower', which will be used to concat 2 dataframes in step - 7"
   ]
  },
  {
   "cell_type": "markdown",
   "metadata": {},
   "source": [
    "### Step 6"
   ]
  },
  {
   "cell_type": "code",
   "execution_count": 59,
   "metadata": {},
   "outputs": [
    {
     "name": "stdout",
     "output_type": "stream",
     "text": [
      "LinearRegression(copy_X=True, fit_intercept=True, n_jobs=None, normalize=False)\n",
      "\n",
      "104.94573643410853\n",
      "\n",
      "[ -1.27266487 -13.09190671   0.81135921   5.05306077  -0.59267695\n",
      "   8.04851748  16.68328075  -1.99127361 -24.96005427   9.05849104]\n"
     ]
    }
   ],
   "source": [
    "X = df2.drop(columns = ['horsepower', 'price'])\n",
    "y = df2.iloc[:, 8]\n",
    "X_train, X_test, y_train, y_test = train_test_split(X, y, random_state=808)\n",
    "std_sc = StandardScaler()\n",
    "std_sc.fit(X_train)\n",
    "X_train_sc = std_sc.transform(X_train)\n",
    "X_test_sc = std_sc.transform(X_test)\n",
    "lr = LinearRegression()\n",
    "print(lr.fit(X_train_sc, y_train))\n",
    "y_pred = lr.predict(X_test_sc)\n",
    "print()\n",
    "print(lr.intercept_)\n",
    "print()\n",
    "print(lr.coef_)\n"
   ]
  },
  {
   "cell_type": "markdown",
   "metadata": {},
   "source": [
    "- we have taken X as the other 9 independent variables and y as the 'horsepower' which is the target variable. We have removed our usual target variable 'price' for X.\n",
    "- now we using train_test_split to split the data and using standardscaler to scale and transform the data accordingly and using scaled data in our linear regression model.\n",
    "- data is splitted into 4 parts x,y train and x,y test. we train the data on x,y train and predict on x test and check score on y test.\n",
    "- we found intercept and coef of the independent variables.\n",
    "- Intercept is the mean of predicted at the mean of each predictor.\n",
    "- Correlation coeficient is the measure of strength and direction of linear regression line.\n",
    "- This model we are doing on the df2 (Dataframe with no NAN)."
   ]
  },
  {
   "cell_type": "code",
   "execution_count": 70,
   "metadata": {},
   "outputs": [
    {
     "name": "stdout",
     "output_type": "stream",
     "text": [
      "MAE 11.323845656469924\n",
      "MSE 210.04529693322982\n",
      "RMSE 14.49293955459795\n",
      "R Sqaured 0.8377132727219736\n"
     ]
    }
   ],
   "source": [
    "absolute_error = mean_absolute_error(y_test, y_pred)\n",
    "print(f'MAE {absolute_error}')\n",
    "mse = mean_squared_error(y_test, y_pred)\n",
    "print(f'MSE {mse}')\n",
    "rmse = np.sqrt(mse)\n",
    "print(f'RMSE {rmse}')\n",
    "R2_test = r2_score(y_test, y_pred)\n",
    "print(f'R Sqaured {R2_test}')"
   ]
  },
  {
   "cell_type": "markdown",
   "metadata": {},
   "source": [
    "- Mean absolute error is the measure of average magnitude of errors in predictions.\n",
    "- Mean squared error is the measure of closness of data points to the fitted line. \n",
    "- Root mean squared error is just root of MSE and also tells the same.The smaller the value the closer to the fitted line or regression line. We have got 14.49 for our model.\n",
    "- R2 determines how well the data fits the regression model. Higher the value better the model. We have got 0.837 for our model which is really good value."
   ]
  },
  {
   "cell_type": "markdown",
   "metadata": {},
   "source": [
    "### Step 7"
   ]
  },
  {
   "cell_type": "code",
   "execution_count": 53,
   "metadata": {},
   "outputs": [
    {
     "name": "stdout",
     "output_type": "stream",
     "text": [
      "    horsepower\n",
      "0   133.553394\n",
      "1   128.539925\n",
      "2   130.294681\n",
      "3    45.601569\n",
      "4    71.675750\n",
      "5    30.087403\n",
      "6    41.311829\n",
      "7    70.513778\n",
      "8    93.242740\n",
      "9   185.724489\n",
      "10   74.089814\n",
      "11  100.460213\n",
      "12  100.699498\n",
      "13   73.447613\n",
      "14  106.848352\n",
      "15  110.079329\n",
      "16   28.606773\n",
      "17   70.155337\n",
      "18   72.414731\n",
      "19   70.681764\n",
      "20  174.581773\n",
      "21  118.191630\n",
      "22   67.788930\n",
      "23   81.064260\n",
      "24   68.616182\n",
      "25   90.159249\n",
      "\n",
      "    symboling  wheel-base  length  width  height  curb-weight  engine-size  \\\n",
      "0           3        88.6   168.8   64.1    48.8         2548          130   \n",
      "1           1       105.8   192.7   71.4    55.7         2844          136   \n",
      "2           1       105.8   192.7   71.4    55.7         2954          136   \n",
      "3           1        94.5   155.9   63.6    52.0         1874           90   \n",
      "4           1        93.7   157.3   63.8    50.6         1967           90   \n",
      "5           2        86.6   144.6   63.9    50.8         1713           92   \n",
      "6           1        93.7   150.0   64.0    52.6         1837           79   \n",
      "7           1        93.7   150.0   64.0    52.6         1956           92   \n",
      "8           0        96.5   175.4   65.2    54.1         2304          110   \n",
      "9           0       113.0   199.6   69.6    52.8         4066          258   \n",
      "10          1        93.1   166.8   64.2    54.1         1950           91   \n",
      "11          0        98.8   177.8   66.5    55.5         2410          122   \n",
      "12          0        98.8   177.8   66.5    55.5         2425          122   \n",
      "13          2        93.7   157.3   64.4    50.8         2004           92   \n",
      "14          1        96.3   172.4   65.4    51.6         2405          122   \n",
      "15         -1        96.3   172.4   65.4    51.6         2403          110   \n",
      "16          1        94.5   165.3   63.8    54.5         2017          103   \n",
      "17          1        94.5   165.3   63.8    54.5         1918           97   \n",
      "18          1        94.5   170.2   63.8    53.5         2024           97   \n",
      "19          1        94.5   165.3   63.8    54.5         1951           97   \n",
      "20          3        89.5   168.9   65.0    51.6         2756          194   \n",
      "21          2        99.1   186.6   66.5    56.1         2758          121   \n",
      "22          1        95.7   158.7   63.6    54.5         2015           92   \n",
      "23          0        95.7   169.7   63.6    59.1         2290           92   \n",
      "24         -1       102.4   175.6   66.5    54.9         2480          110   \n",
      "25          2        97.3   171.7   65.5    55.7         2275          109   \n",
      "\n",
      "    compression-ratio  city-mpg  highway-mpg    price  horsepower  \n",
      "0                 9.0        21           27  13495.0  133.553394  \n",
      "1                 8.5        19           25  17710.0  128.539925  \n",
      "2                 8.5        19           25  18920.0  130.294681  \n",
      "3                 9.6        38           43   6295.0   45.601569  \n",
      "4                 9.4        31           38   6229.0   71.675750  \n",
      "5                 9.6        49           54   6479.0   30.087403  \n",
      "6                10.1        38           42   5399.0   41.311829  \n",
      "7                 9.2        30           34   7129.0   70.513778  \n",
      "8                 9.0        27           33   8845.0   93.242740  \n",
      "9                 8.1        15           19  35550.0  185.724489  \n",
      "10                9.0        31           38   7395.0   74.089814  \n",
      "11                8.6        26           32   8495.0  100.460213  \n",
      "12                8.6        26           32  11245.0  100.699498  \n",
      "13                9.4        31           38   6669.0   73.447613  \n",
      "14                8.5        25           32   8189.0  106.848352  \n",
      "15                7.5        23           30   9279.0  110.079329  \n",
      "16               21.9        45           50   7099.0   28.606773  \n",
      "17                9.4        31           37   6649.0   70.155337  \n",
      "18                9.4        31           37   7349.0   72.414731  \n",
      "19                9.4        31           37   7299.0   70.681764  \n",
      "20                9.5        17           25  32528.0  174.581773  \n",
      "21                9.3        21           28  15510.0  118.191630  \n",
      "22                9.0        31           38   6488.0   67.788930  \n",
      "23                9.0        27           32   7898.0   81.064260  \n",
      "24               22.5        30           33  10698.0   68.616182  \n",
      "25                9.0        27           34   8495.0   90.159249  \n"
     ]
    }
   ],
   "source": [
    "X_df1 = df1.drop(columns = ['horsepower', 'price'])\n",
    "X_df1_sc = std_sc.transform(X_df1)\n",
    "y_df1_pred = lr.predict(X_df1_sc)\n",
    "y_df1 = pd.DataFrame(y_df1_pred)\n",
    "y_df1.columns = ['horsepower']\n",
    "print(y_df1)\n",
    "print()\n",
    "new_index = pd.Series(range(0, 26))\n",
    "df1_1 = df1_1.set_index([new_index])\n",
    "df_pred = pd.concat([df1_1, y_df1], axis = 1)\n",
    "print(df_pred)"
   ]
  },
  {
   "cell_type": "markdown",
   "metadata": {},
   "source": [
    "- Coming to the df1, we dropped 'horsepower'(which is our new target) & 'price'(which is our usual target) and named the variable X_df1. Using this data to predict the nan values of the target (horsepower) variable. Before predicting we scaled and transformed the data. Predicted values are stored in the dataframe y_df1 and named the column 'horsepower'. Then we reseted the index because it was randomly selected, then we concatenated the two dataframes y_df1 and df1_1 naming df_pred."
   ]
  },
  {
   "cell_type": "markdown",
   "metadata": {},
   "source": [
    "### Step 8 "
   ]
  },
  {
   "cell_type": "code",
   "execution_count": 54,
   "metadata": {},
   "outputs": [
    {
     "name": "stdout",
     "output_type": "stream",
     "text": [
      "     symboling  wheel-base  length  width  height  curb-weight  engine-size  \\\n",
      "0            3        88.6   168.8   64.1    48.8         2548          130   \n",
      "1            1        94.5   171.2   65.5    52.4         2823          152   \n",
      "2            2        99.8   176.6   66.2    54.3         2337          109   \n",
      "3            2        99.4   176.6   66.4    54.3         2824          136   \n",
      "4            2        99.8   177.3   66.3    53.1         2507          136   \n",
      "..         ...         ...     ...    ...     ...          ...          ...   \n",
      "194          2        99.1   186.6   66.5    56.1         2758          121   \n",
      "195          1        95.7   158.7   63.6    54.5         2015           92   \n",
      "196          0        95.7   169.7   63.6    59.1         2290           92   \n",
      "197         -1       102.4   175.6   66.5    54.9         2480          110   \n",
      "198          2        97.3   171.7   65.5    55.7         2275          109   \n",
      "\n",
      "     compression-ratio  horsepower  city-mpg  highway-mpg    price  \n",
      "0                  9.0  111.000000        21           27  16500.0  \n",
      "1                  9.0  154.000000        19           26  16500.0  \n",
      "2                 10.0  102.000000        24           30  13950.0  \n",
      "3                  8.0  115.000000        18           22  17450.0  \n",
      "4                  8.5  110.000000        19           25  15250.0  \n",
      "..                 ...         ...       ...          ...      ...  \n",
      "194                9.3  118.191630        21           28  15510.0  \n",
      "195                9.0   67.788930        31           38   6488.0  \n",
      "196                9.0   81.064260        27           32   7898.0  \n",
      "197               22.5   68.616182        30           33  10698.0  \n",
      "198                9.0   90.159249        27           34   8495.0  \n",
      "\n",
      "[199 rows x 12 columns]\n",
      "symboling            0\n",
      "wheel-base           0\n",
      "length               0\n",
      "width                0\n",
      "height               0\n",
      "curb-weight          0\n",
      "engine-size          0\n",
      "compression-ratio    0\n",
      "horsepower           0\n",
      "city-mpg             0\n",
      "highway-mpg          0\n",
      "price                0\n",
      "dtype: int64\n"
     ]
    }
   ],
   "source": [
    "\n",
    "df_final = df2.append([df_pred])\n",
    "new = pd.Series(range(0, 199))\n",
    "df_final = df_final.set_index([new])\n",
    "print(df_final)\n",
    "print(df_final.isnull().sum())"
   ]
  },
  {
   "cell_type": "markdown",
   "metadata": {},
   "source": [
    "- Now we are appending the df_pred with df2 and again resetting the index and naming it df_final.\n",
    "- again checking the null values of the final data frame. \n",
    "- This df_final consists of all rows and columns similar to 'auto' dataframe from step-2. And also with no NAN values."
   ]
  },
  {
   "cell_type": "markdown",
   "metadata": {},
   "source": [
    "### Step 9"
   ]
  },
  {
   "cell_type": "code",
   "execution_count": 55,
   "metadata": {},
   "outputs": [
    {
     "name": "stdout",
     "output_type": "stream",
     "text": [
      "Scaled Training R^2 is 0.9504567590428413 and Scaled Testing R^2 is 0.9262251243297761 for k = 3\n"
     ]
    }
   ],
   "source": [
    "A = df_final.drop(columns = 'price')\n",
    "b = df_final.iloc[:, 8]\n",
    "A_train, A_test, b_train, b_test = train_test_split(A, b, random_state=78)\n",
    "std_sc.fit(A_train)\n",
    "A_train_sc = std_sc.transform(A_train)\n",
    "A_test_sc = std_sc.transform(A_test)\n",
    "reg_std_sc = KNeighborsRegressor(n_neighbors=3)\n",
    "reg_std_sc.fit(A_train_sc, b_train)\n",
    "train_R2_sc = reg_std_sc.score(A_train_sc, b_train)\n",
    "test_R2_sc = reg_std_sc.score(A_test_sc, b_test)\n",
    "print(f'Scaled Training R^2 is {train_R2_sc} and Scaled Testing R^2 is {test_R2_sc} for k = 3')"
   ]
  },
  {
   "cell_type": "markdown",
   "metadata": {},
   "source": [
    "- Here we are doing kNN regression on the df_final with neighbors = 3. Just like before X has independent variable and y has target variable. We are using 'price' as our target variable which is our usual target variable. Again splitting the data and training it on X,y train and predicting it on x test and calculating r2 score on y test. before modeling we scaled and transformed the data.\n",
    "- We calculated r2 which means goodness-of-fit measure for linear regression models. This statistic indicates the percentage of the variance in the dependent variable that the independent variables explain collectively. After fitting a linear regression model, you need to determine how well the model fits the data. it ranges from 0 to 1. "
   ]
  },
  {
   "cell_type": "markdown",
   "metadata": {},
   "source": [
    "### Step 10 "
   ]
  },
  {
   "cell_type": "code",
   "execution_count": 56,
   "metadata": {},
   "outputs": [
    {
     "name": "stdout",
     "output_type": "stream",
     "text": [
      "Scaled Training R^2 is 0.9537333173579751 and Scaled Testing R^2 is 0.9100119579207889 for k = 3\n"
     ]
    }
   ],
   "source": [
    "C = auto.drop(columns = 'price')\n",
    "d = auto.iloc[:, 8]\n",
    "C_train, C_test, d_train, d_test = train_test_split(C, d, random_state=78)\n",
    "std_sc.fit(C_train)\n",
    "C_train_sc = std_sc.transform(C_train)\n",
    "C_test_sc = std_sc.transform(C_test)\n",
    "reg_std_sc.fit(C_train_sc, d_train)\n",
    "train_R2 = reg_std_sc.score(C_train_sc, d_train)\n",
    "test_R2 = reg_std_sc.score(C_test_sc, d_test)\n",
    "print(f'Scaled Training R^2 is {train_R2} and Scaled Testing R^2 is {test_R2} for k = 3')"
   ]
  },
  {
   "cell_type": "markdown",
   "metadata": {},
   "source": [
    "- Just like step - 9 we did same thing but on the original dataset(auto) and calculated our r2 value."
   ]
  },
  {
   "cell_type": "markdown",
   "metadata": {},
   "source": [
    "### Step 11"
   ]
  },
  {
   "cell_type": "markdown",
   "metadata": {},
   "source": [
    "- If we compare test R2 values from both step - 9 and step - 10, the R2 slightly increased from the original dataset. \n",
    "- The original dataset 'auto' has R2 of 0.910 and for the dataset which we framed after we predicted some values using linear regression model 'df_final' is 0.926.\n",
    "- We can conclude by saying the model which we created using df_final is better than the model created using original dataset(auto)."
   ]
  }
 ],
 "metadata": {
  "kernelspec": {
   "display_name": "Python 3",
   "language": "python",
   "name": "python3"
  },
  "language_info": {
   "codemirror_mode": {
    "name": "ipython",
    "version": 3
   },
   "file_extension": ".py",
   "mimetype": "text/x-python",
   "name": "python",
   "nbconvert_exporter": "python",
   "pygments_lexer": "ipython3",
   "version": "3.8.5"
  }
 },
 "nbformat": 4,
 "nbformat_minor": 4
}
